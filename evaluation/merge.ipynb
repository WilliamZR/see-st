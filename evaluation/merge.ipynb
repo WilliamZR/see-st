{
 "cells": [
  {
   "cell_type": "code",
   "execution_count": 2,
   "metadata": {},
   "outputs": [],
   "source": [
    "import jsonlines\n",
    "with jsonlines.open('/home/wuzr/feverous/data/dev.combined.not_precomputed.p5.s5.t3.cells.verdict.jsonl', 'r') as f:\n",
    "    predicted_labels = [line['predicted_label'] for line in f]\n",
    "with jsonlines.open('/home/wuzr/feverous/data/dev.scorecheck.001.jsonl', 'r') as f:\n",
    "    predicted_evidence = []\n",
    "    evidence = []\n",
    "    labels = []\n",
    "    for i, line in enumerate(f):\n",
    "        if i == 0:\n",
    "            continue\n",
    "        evi = [[el.split('_')[0], el.split('_')[1] if 'table_caption' not in el and 'header_cell' not in el else '_'.join(el.split('_')[1:3]), '_'.join(el.split('_')[2:]) if 'table_caption' not in el and 'header_cell' not in el else '_'.join(el.split('_')[3:])] for el in  line['predicted_evidence']]\n",
    "        predicted_evidence.append(evi)\n",
    "        labels.append(line['label'])\n",
    "        evidence.append(line['evidence'])\n",
    "\n",
    "with jsonlines.open('ablation.001.jsonl', 'w') as writer:\n",
    "    for pred_label, pred_evi, label, evi in zip(predicted_labels, predicted_evidence, labels, evidence):\n",
    "        writer.write({'predicted_label': pred_label, 'predicted_evidence': pred_evi, 'label': label, 'evidence': evi})\n"
   ]
  }
 ],
 "metadata": {
  "kernelspec": {
   "display_name": "feverous",
   "language": "python",
   "name": "python3"
  },
  "language_info": {
   "codemirror_mode": {
    "name": "ipython",
    "version": 3
   },
   "file_extension": ".py",
   "mimetype": "text/x-python",
   "name": "python",
   "nbconvert_exporter": "python",
   "pygments_lexer": "ipython3",
   "version": "3.7.12"
  },
  "orig_nbformat": 4
 },
 "nbformat": 4,
 "nbformat_minor": 2
}
